{
 "cells": [
  {
   "cell_type": "code",
   "execution_count": 6,
   "metadata": {},
   "outputs": [
    {
     "name": "stdout",
     "output_type": "stream",
     "text": [
      "Enter the number for x: 1+2j\n",
      "Enter the number for y: 3+4j\n",
      "The sum of the numbers are:  (4+6j)\n"
     ]
    }
   ],
   "source": [
    "# Question 11\n",
    "\n",
    "x = eval(input(\"Enter the number for x: \"))\n",
    "y = eval(input(\"Enter the number for y: \"))\n",
    "add = x + y\n",
    "print(\"The sum of the numbers are: \", add)"
   ]
  },
  {
   "cell_type": "code",
   "execution_count": 7,
   "metadata": {},
   "outputs": [
    {
     "name": "stdout",
     "output_type": "stream",
     "text": [
      "Enter the length of square: 30\n",
      "The area of the square is:  900\n"
     ]
    }
   ],
   "source": [
    "# Question 12\n",
    "\n",
    "side = eval(input(\"Enter the length of square: \"))\n",
    "area = side ** 2\n",
    "print(\"The area of the square is: \", area)"
   ]
  },
  {
   "cell_type": "code",
   "execution_count": 8,
   "metadata": {},
   "outputs": [
    {
     "name": "stdout",
     "output_type": "stream",
     "text": [
      "Enter your weight in Kgs: 67\n",
      "Enter your height in meters: 1.67\n",
      "Your current BMI is:  24.023808670084982\n"
     ]
    }
   ],
   "source": [
    "# Question 13\n",
    "\n",
    "weight = eval(input(\"Enter your weight in Kgs: \"))\n",
    "height = eval(input(\"Enter your height in meters: \"))\n",
    "BMI = weight/(height**2)\n",
    "print(\"Your current BMI is: \", BMI)"
   ]
  },
  {
   "cell_type": "code",
   "execution_count": 9,
   "metadata": {},
   "outputs": [
    {
     "name": "stdout",
     "output_type": "stream",
     "text": [
      "Enter the temperature in celcius: 28.0\n",
      "The temperature in Farenheit is:  82.4\n"
     ]
    }
   ],
   "source": [
    "# Question 14\n",
    "\n",
    "c = eval(input(\"Enter the temperature in celcius: \"))\n",
    "f = ((c * 9) / 5) + 32\n",
    "print(\"The temperature in Farenheit is: \", f)"
   ]
  },
  {
   "cell_type": "code",
   "execution_count": 14,
   "metadata": {},
   "outputs": [
    {
     "name": "stdout",
     "output_type": "stream",
     "text": [
      "Enter the value for base: 3\n",
      "Enter the value for height: 4\n",
      "Hypotenuse of the triangle is:  5.0\n"
     ]
    }
   ],
   "source": [
    "# Question 15\n",
    "\n",
    "import math;\n",
    "b = eval(input(\"Enter the value for base: \"))\n",
    "h = eval(input(\"Enter the value for height: \"))\n",
    "hyp = math.sqrt(b ** 2 + h ** 2)\n",
    "print(\"Hypotenuse of the triangle is: \", hyp)"
   ]
  },
  {
   "cell_type": "code",
   "execution_count": 18,
   "metadata": {},
   "outputs": [
    {
     "name": "stdout",
     "output_type": "stream",
     "text": [
      "Enter the radius of circle: 3\n",
      "Area of the half circle is:  14.137166941154069\n"
     ]
    }
   ],
   "source": [
    "# Question 16\n",
    "\n",
    "import math;\n",
    "radius = eval(input(\"Enter the radius of circle: \"))\n",
    "area_circle = math.pi * (radius ** 2) / 2\n",
    "print(\"Area of the half circle is: \", area_circle)"
   ]
  },
  {
   "cell_type": "code",
   "execution_count": 23,
   "metadata": {},
   "outputs": [
    {
     "name": "stdout",
     "output_type": "stream",
     "text": [
      "6 , 1 , 19\n"
     ]
    }
   ],
   "source": [
    "# Question 17\n",
    "\n",
    "numlist = [1, 6, 3, 4, 5]\n",
    "print(max(numlist), \",\", min(numlist), \",\", sum(numlist))"
   ]
  },
  {
   "cell_type": "code",
   "execution_count": null,
   "metadata": {},
   "outputs": [],
   "source": []
  }
 ],
 "metadata": {
  "kernelspec": {
   "display_name": "Python 3",
   "language": "python",
   "name": "python3"
  },
  "language_info": {
   "codemirror_mode": {
    "name": "ipython",
    "version": 3
   },
   "file_extension": ".py",
   "mimetype": "text/x-python",
   "name": "python",
   "nbconvert_exporter": "python",
   "pygments_lexer": "ipython3",
   "version": "3.7.3"
  }
 },
 "nbformat": 4,
 "nbformat_minor": 2
}
